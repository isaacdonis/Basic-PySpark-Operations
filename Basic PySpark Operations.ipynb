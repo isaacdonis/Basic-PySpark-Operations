{
 "cells": [
  {
   "cell_type": "markdown",
   "metadata": {},
   "source": [
    "# Basic Operations in PySpark Using a Sample Dataset"
   ]
  },
  {
   "cell_type": "markdown",
   "metadata": {},
   "source": [
    "### Loading PySpark"
   ]
  },
  {
   "cell_type": "code",
   "execution_count": 105,
   "metadata": {},
   "outputs": [],
   "source": [
    "import findspark\n",
    "findspark.init('/home/donis/spark-2.1.1-bin-hadoop2.7')\n",
    "\n",
    "from pyspark.sql import SparkSession\n",
    "\n",
    "from pyspark.sql.functions import format_number, year"
   ]
  },
  {
   "cell_type": "code",
   "execution_count": 106,
   "metadata": {},
   "outputs": [],
   "source": [
    "spark = SparkSession.builder.appName('PySpark_Sample').getOrCreate()"
   ]
  },
  {
   "cell_type": "markdown",
   "metadata": {},
   "source": [
    "We will be working with historical stock market data for Walmart: "
   ]
  },
  {
   "cell_type": "code",
   "execution_count": 107,
   "metadata": {},
   "outputs": [],
   "source": [
    "walmart_data = spark.read.csv('walmart_stock.csv', header=True, inferSchema=True)"
   ]
  },
  {
   "cell_type": "markdown",
   "metadata": {},
   "source": [
    "We can run several actions to get a general understanding of the data:"
   ]
  },
  {
   "cell_type": "code",
   "execution_count": 108,
   "metadata": {},
   "outputs": [
    {
     "name": "stdout",
     "output_type": "stream",
     "text": [
      "root\n",
      " |-- Date: timestamp (nullable = true)\n",
      " |-- Open: double (nullable = true)\n",
      " |-- High: double (nullable = true)\n",
      " |-- Low: double (nullable = true)\n",
      " |-- Close: double (nullable = true)\n",
      " |-- Volume: integer (nullable = true)\n",
      " |-- Adj Close: double (nullable = true)\n",
      "\n"
     ]
    }
   ],
   "source": [
    "walmart_data.printSchema()"
   ]
  },
  {
   "cell_type": "code",
   "execution_count": 109,
   "metadata": {},
   "outputs": [
    {
     "name": "stdout",
     "output_type": "stream",
     "text": [
      "Row(Date=datetime.datetime(2012, 1, 3, 0, 0), Open=59.970001, High=61.060001, Low=59.869999, Close=60.330002, Volume=12668800, Adj Close=52.619234999999996)\n",
      "\n",
      "\n",
      "Row(Date=datetime.datetime(2012, 1, 4, 0, 0), Open=60.209998999999996, High=60.349998, Low=59.470001, Close=59.709998999999996, Volume=9593300, Adj Close=52.078475)\n",
      "\n",
      "\n",
      "Row(Date=datetime.datetime(2012, 1, 5, 0, 0), Open=59.349998, High=59.619999, Low=58.369999, Close=59.419998, Volume=12768200, Adj Close=51.825539)\n",
      "\n",
      "\n"
     ]
    }
   ],
   "source": [
    "for entry in walmart_data.head(3):\n",
    "    print(entry)\n",
    "    print('\\n')"
   ]
  },
  {
   "cell_type": "code",
   "execution_count": 110,
   "metadata": {},
   "outputs": [],
   "source": [
    "description = walmart_data.describe()"
   ]
  },
  {
   "cell_type": "code",
   "execution_count": 111,
   "metadata": {},
   "outputs": [
    {
     "name": "stdout",
     "output_type": "stream",
     "text": [
      "+-------+--------+--------+--------+--------+-------------+--------------+\n",
      "|summary|    Open|    High|     Low|   Close|       Volume|Adjusted Close|\n",
      "+-------+--------+--------+--------+--------+-------------+--------------+\n",
      "|  count|1,258.00|1,258.00|1,258.00|1,258.00|     1,258.00|      1,258.00|\n",
      "|   mean|   72.36|   72.84|   71.92|   72.39| 8,222,093.50|         67.24|\n",
      "| stddev|    6.77|    6.77|    6.74|    6.76| 4,519,781.00|          6.72|\n",
      "|    min|   56.39|   57.06|   56.30|   56.42| 2,094,900.00|         50.36|\n",
      "|    max|   90.80|   90.97|   89.25|   90.47|80,898,096.00|         84.91|\n",
      "+-------+--------+--------+--------+--------+-------------+--------------+\n",
      "\n"
     ]
    }
   ],
   "source": [
    "description.select(description['summary'], \n",
    "format_number(description['Open'].cast('float'), 2).alias('Open'), \n",
    "format_number(description['High'].cast('float'), 2).alias('High'),\n",
    "format_number(description['Low'].cast('float'), 2).alias('Low'),\n",
    "format_number(description['Close'].cast('float'), 2).alias('Close'),\n",
    "format_number(description['Volume'].cast('float'), 2).alias('Volume'),\n",
    "format_number(description['Adj Close'].cast('float'), 2).alias('Adjusted Close')).show()"
   ]
  },
  {
   "cell_type": "markdown",
   "metadata": {},
   "source": [
    "The historical volatility ratio can be calculated:"
   ]
  },
  {
   "cell_type": "code",
   "execution_count": 112,
   "metadata": {},
   "outputs": [],
   "source": [
    "walmart_data = walmart_data.withColumn(\"HV Ratio\", walmart_data['High']/walmart_data['Volume'])"
   ]
  },
  {
   "cell_type": "code",
   "execution_count": 113,
   "metadata": {},
   "outputs": [
    {
     "name": "stdout",
     "output_type": "stream",
     "text": [
      "+------------+\n",
      "|    HV Ratio|\n",
      "+------------+\n",
      "|0.0000048197|\n",
      "|0.0000062908|\n",
      "|0.0000046694|\n",
      "|0.0000073673|\n",
      "|0.0000089156|\n",
      "|0.0000086445|\n",
      "|0.0000093518|\n",
      "|0.0000082914|\n",
      "|0.0000077122|\n",
      "|0.0000070718|\n",
      "|0.0000101550|\n",
      "|0.0000065764|\n",
      "|0.0000059015|\n",
      "|0.0000085477|\n",
      "|0.0000084207|\n",
      "|0.0000104145|\n",
      "|0.0000083161|\n",
      "|0.0000097212|\n",
      "|0.0000080294|\n",
      "|0.0000063074|\n",
      "+------------+\n",
      "only showing top 20 rows\n",
      "\n"
     ]
    }
   ],
   "source": [
    "walmart_data.select(format_number(walmart_data['HV Ratio'], 10).alias('HV Ratio')).show()"
   ]
  },
  {
   "cell_type": "markdown",
   "metadata": {},
   "source": [
    "We can also find the days in which the stock closed at a higher price than it opened: "
   ]
  },
  {
   "cell_type": "code",
   "execution_count": 114,
   "metadata": {},
   "outputs": [],
   "source": [
    "stock_increase = walmart_data.filter(walmart_data['Open'] < walmart_data['Close'])"
   ]
  },
  {
   "cell_type": "code",
   "execution_count": 115,
   "metadata": {},
   "outputs": [
    {
     "name": "stdout",
     "output_type": "stream",
     "text": [
      "+--------------------+-----+-----+\n",
      "|                Date| Open|Close|\n",
      "+--------------------+-----+-----+\n",
      "|2012-01-03 00:00:...|59.97|60.33|\n",
      "|2012-01-05 00:00:...|59.35|59.42|\n",
      "|2012-01-09 00:00:...|59.03|59.18|\n",
      "|2012-01-11 00:00:...|59.06|59.40|\n",
      "|2012-01-13 00:00:...|59.18|59.54|\n",
      "|2012-01-18 00:00:...|59.79|60.01|\n",
      "|2012-01-19 00:00:...|59.93|60.61|\n",
      "|2012-01-20 00:00:...|60.75|61.01|\n",
      "|2012-01-23 00:00:...|60.81|60.91|\n",
      "|2012-01-24 00:00:...|60.75|61.39|\n",
      "|2012-01-25 00:00:...|61.18|61.47|\n",
      "|2012-01-30 00:00:...|60.47|61.30|\n",
      "|2012-02-01 00:00:...|61.79|62.18|\n",
      "|2012-02-06 00:00:...|61.85|61.88|\n",
      "|2012-02-07 00:00:...|61.62|61.69|\n",
      "|2012-02-09 00:00:...|61.58|61.96|\n",
      "|2012-02-10 00:00:...|61.68|61.90|\n",
      "|2012-02-14 00:00:...|61.91|62.22|\n",
      "|2012-02-16 00:00:...|61.77|62.04|\n",
      "|2012-02-17 00:00:...|62.32|62.48|\n",
      "+--------------------+-----+-----+\n",
      "only showing top 20 rows\n",
      "\n"
     ]
    }
   ],
   "source": [
    "stock_increase = stock_increase.select(['Date', \n",
    "                    format_number(stock_increase['Open'],2).alias('Open'), \n",
    "                    format_number(stock_increase['Close'],2).alias('Close')]).orderBy('Date')\n",
    "\n",
    "stock_increase.show()"
   ]
  },
  {
   "cell_type": "markdown",
   "metadata": {},
   "source": [
    "And finally, we can figure out what the maximum stock price was each year:"
   ]
  },
  {
   "cell_type": "code",
   "execution_count": 128,
   "metadata": {},
   "outputs": [
    {
     "name": "stdout",
     "output_type": "stream",
     "text": [
      "+----+-------------+\n",
      "|Year|Maximum Value|\n",
      "+----+-------------+\n",
      "|2012|        77.60|\n",
      "|2013|        81.37|\n",
      "|2014|        88.09|\n",
      "|2015|        90.97|\n",
      "|2016|        75.19|\n",
      "+----+-------------+\n",
      "\n"
     ]
    }
   ],
   "source": [
    "years = walmart_data.withColumn('Year', year('Date'))\n",
    "years = years.orderBy('Year')\n",
    "years.groupBy('Year').max().select(['Year', format_number('max(High)', 2).alias('Maximum Value')]).show()"
   ]
  }
 ],
 "metadata": {
  "kernelspec": {
   "display_name": "Python 3",
   "language": "python",
   "name": "python3"
  },
  "language_info": {
   "codemirror_mode": {
    "name": "ipython",
    "version": 3
   },
   "file_extension": ".py",
   "mimetype": "text/x-python",
   "name": "python",
   "nbconvert_exporter": "python",
   "pygments_lexer": "ipython3",
   "version": "3.5.2"
  }
 },
 "nbformat": 4,
 "nbformat_minor": 2
}
